{
  "nbformat": 4,
  "nbformat_minor": 0,
  "metadata": {
    "colab": {
      "name": "SSI_3D_ZeroCostDL4Mic.ipynb",
      "provenance": [],
      "collapsed_sections": [],
      "toc_visible": true
    },
    "language_info": {
      "codemirror_mode": {
        "name": "ipython",
        "version": 3
      },
      "file_extension": ".py",
      "mimetype": "text/x-python",
      "name": "python",
      "nbconvert_exporter": "python",
      "pygments_lexer": "ipython3",
      "version": "3.6.4"
    },
    "kernelspec": {
      "name": "python3",
      "display_name": "Python 3"
    },
    "accelerator": "GPU"
  },
  "cells": [
    {
      "cell_type": "markdown",
      "metadata": {
        "id": "V9zNGvape2-I",
        "colab_type": "text"
      },
      "source": [
        "# **<font color=black>Noise-Tolerant Self-Supervised Inversion**\n",
        "\n",
        "<font size = 4> We propose a general framework for solving inverse problems in the presence of noise that requires no signal prior, no noise estimate, and no clean training data. The only assumptions are that the forward model is available, differentiable and that the noise exhibits statistical independence across different measurement dimensions. We build upon the theory of 'J-invariant' functions [Batson & Royer 2019](https://arxiv.org/abs/1901.11365) and show how self-supervised denoising à la Noise2Self is a special case of learning a noise-tolerant pseudo-inverse of the identity. We demonstrate our approach by showing how a convolutional neural network can be taught in a self-supervised manner to deconvolve images and surpass in image quality classical inversion schemes such as Lucy-Richardson deconvolution. Here you can use SSI implementation on our example data or your own data.\n",
        "\n",
        "---\n",
        "\n",
        "<font size = 4>*Disclaimer*:\n",
        "\n",
        "<font size = 4>This notebook is inspired from the *Zero-Cost Deep-Learning to Enhance Microscopy* project (ZeroCostDL4Mic) (https://github.com/HenriquesLab/DeepLearning_Collab/wiki) and was created by **<font color=black>Ahmet Can Solak and Loic Royer**\n",
        "\n",
        "<font size = 4>This notebook is based on the following paper: \n",
        "\n",
        "<font size = 4>**Image Deconvolution via Noise-Tolerant Self-Supervised Inversion**, Hirofumi Kobayashi, Ahmet Can Solak, Joshua Batson, Loic A. Royer, [link to paper](https://royerlab.github.io/ssi-code/paper/Noise_Tolerant_Self_Supervised_Inversion.pdf)\n",
        "\n",
        "<font size = 4>And source code found in: https://github.com/royerlab/ssi-code\n",
        "\n",
        "\n",
        "<font size = 4>**Please also cite this original paper when using or developing this notebook.**"
      ]
    },
    {
      "cell_type": "markdown",
      "metadata": {
        "id": "jWAz2i7RdxUV",
        "colab_type": "text"
      },
      "source": [
        "# **How to use this notebook?**\n",
        "\n",
        "---\n",
        "\n",
        "<font size = 4>Video describing how to use ZeroCostDL4Mic notebooks are available on youtube:\n",
        "  - [**Video 1**](https://www.youtube.com/watch?v=GzD2gamVNHI&feature=youtu.be): Full run through of the workflow to obtain the notebooks and the provided test datasets as well as a common use of the notebook\n",
        "  - [**Video 2**](https://www.youtube.com/watch?v=PUuQfP5SsqM&feature=youtu.be): Detailed description of the different sections of the notebook\n",
        "\n",
        "\n",
        "---\n",
        "###**Structure of a notebook**\n",
        "\n",
        "<font size = 4>The notebook contains two types of cell:  \n",
        "\n",
        "<font size = 4>**Text cells** provide information and can be modified by douple-clicking the cell. You are currently reading the text cell. You can create a new text by clicking `+ Text`.\n",
        "\n",
        "<font size = 4>**Code cells** contain code and the code can be modfied by selecting the cell. To execute the cell, move your cursor on the `[ ]`-mark on the left side of the cell (play button appears). Click to execute the cell. After execution is done the animation of play button stops. You can create a new coding cell by clicking `+ Code`.\n",
        "\n",
        "---\n",
        "###**Table of contents, Code snippets** and **Files**\n",
        "\n",
        "<font size = 4>On the top left side of the notebook you find three tabs which contain from top to bottom:\n",
        "\n",
        "<font size = 4>*Table of contents* = contains structure of the notebook. Click the content to move quickly between sections.\n",
        "\n",
        "<font size = 4>*Code snippets* = contain examples how to code certain tasks. You can ignore this when using this notebook.\n",
        "\n",
        "<font size = 4>*Files* = contain all available files. After mounting your google drive (see section 1.) you will find your files and folders here. \n",
        "\n",
        "<font size = 4>**Remember that all uploaded files are purged after changing the runtime.** All files saved in Google Drive will remain. You do not need to use the Mount Drive-button; your Google Drive is connected in section 1.2.\n",
        "\n",
        "<font size = 4>**Note:** The \"sample data\" in \"Files\" contains default files. Do not upload anything in here!\n",
        "\n",
        "---\n",
        "###**Making changes to the notebook**\n",
        "\n",
        "<font size = 4>**You can make a copy** of the notebook and save it to your Google Drive. To do this click file -> save a copy in drive.\n",
        "\n",
        "<font size = 4>To **edit a cell**, double click on the text. This will show you either the source code (in code cells) or the source text (in text cells).\n",
        "You can use the `#`-mark in code cells to comment out parts of the code. This allows you to keep the original code piece in the cell as a comment."
      ]
    },
    {
      "cell_type": "markdown",
      "metadata": {
        "id": "DMNHVZfHmbKb",
        "colab_type": "text"
      },
      "source": [
        "# **1. Initialise the Colab session**\n",
        "---\n",
        "\n",
        "\n",
        "\n",
        "\n"
      ]
    },
    {
      "cell_type": "markdown",
      "metadata": {
        "id": "BCPhV-pe-syw",
        "colab_type": "text"
      },
      "source": [
        "\n",
        "## **1.1. Check for GPU access**\n",
        "---\n",
        "\n",
        "By default, the session should be using Python 3 and GPU acceleration, but it is possible to ensure that these are set properly by doing the following:\n",
        "\n",
        "<font size = 4>Go to **Runtime -> Change the Runtime type**\n",
        "\n",
        "<font size = 4>**Runtime type: Python 3** *(Python 3 is programming language in which this program is written)*\n",
        "\n",
        "<font size = 4>**Accelator: GPU** *(Graphics processing unit)*\n"
      ]
    },
    {
      "cell_type": "code",
      "metadata": {
        "id": "VNZetvLiS1qV",
        "colab_type": "code",
        "cellView": "form",
        "colab": {}
      },
      "source": [
        "#@markdown ##Run this cell to check if you have GPU access\n",
        "%tensorflow_version 1.x\n",
        "\n",
        "import tensorflow as tf\n",
        "if tf.test.gpu_device_name()=='':\n",
        "  print('You do not have GPU access.') \n",
        "  print('Did you change your runtime ?') \n",
        "  print('If the runtime settings are correct then Google did not allocate GPU to your session')\n",
        "  print('Expect slow performance. To access GPU try reconnecting later')\n",
        "\n",
        "else:\n",
        "  print('You have GPU access')\n",
        "  !nvidia-smi\n",
        "\n",
        "from tensorflow.python.client import device_lib \n",
        "device_lib.list_local_devices()\n"
      ],
      "execution_count": null,
      "outputs": []
    },
    {
      "cell_type": "markdown",
      "metadata": {
        "id": "UBrnApIUBgxv",
        "colab_type": "text"
      },
      "source": [
        "## **1.2. Mount your Google Drive**\n",
        "---\n",
        "<font size = 4> To use this notebook on the data present in your Google Drive, you need to mount your Google Drive to this notebook.\n",
        "\n",
        "<font size = 4> Play the cell below to mount your Google Drive and follow the link. In the new browser window, select your drive and select 'Allow', copy the code, paste into the cell and press enter. This will give Colab access to the data on the drive. \n",
        "\n",
        "<font size = 4> Once this is done, your data are available in the **Files** tab on the top left of notebook."
      ]
    },
    {
      "cell_type": "code",
      "metadata": {
        "id": "01Djr8v-5pPk",
        "colab_type": "code",
        "cellView": "form",
        "colab": {}
      },
      "source": [
        "#@markdown ##Run this cell to connect your Google Drive to Colab\n",
        "\n",
        "#@markdown * Click on the URL. \n",
        "\n",
        "#@markdown * Sign in your Google Account. \n",
        "\n",
        "#@markdown * Copy the authorization code. \n",
        "\n",
        "#@markdown * Enter the authorization code. \n",
        "\n",
        "#@markdown * Click on \"Files\" site on the right. Refresh the site. Your Google Drive folder should now be available here as \"drive\". \n",
        "\n",
        "#mounts user's Google Drive to Google Colab.\n",
        "\n",
        "from google.colab import drive\n",
        "drive.mount('/content/gdrive')"
      ],
      "execution_count": null,
      "outputs": []
    },
    {
      "cell_type": "markdown",
      "metadata": {
        "id": "n4yWFoJNnoin",
        "colab_type": "text"
      },
      "source": [
        "# **2. Install <font color=black>SSI<font color=white> and Dependencies**\n",
        "---\n"
      ]
    },
    {
      "cell_type": "code",
      "metadata": {
        "id": "3u2mXn3XsWzd",
        "colab_type": "code",
        "cellView": "form",
        "colab": {
          "base_uri": "https://localhost:8080/",
          "height": 1000
        },
        "outputId": "730bb745-a34e-4182-a3cb-7348fc1736dd"
      },
      "source": [
        "#@markdown ##<font color=black>Install Network and Dependencies\n",
        "\n",
        "\n",
        "#Libraries contains information of certain topics. \n",
        "!pip install git+https://github.com/royerlab/ssi-code.git\n",
        "!pip install cupy-cuda101\n",
        "\n",
        "#Put the imported code and libraries here\n",
        "import ssi\n",
        "\n",
        "#Disable some of the tensorflow warnings\n",
        "import warnings\n",
        "warnings.filterwarnings(\"ignore\")\n",
        "\n",
        "print(\"Depencies installed and imported.\")\n",
        "\n",
        "\n",
        "\n",
        "\n",
        "\n",
        "#######\n",
        "import sys\n",
        "import time\n",
        "from pathlib import Path\n",
        "import numpy\n",
        "from tifffile import imread, imsave\n",
        "import napari\n",
        "from matplotlib import pyplot as plt\n",
        "\n",
        "from ssi.demo.demo3D import printscore\n",
        "from ssi.ssi_deconv import SSIDeconvolution\n",
        "from ssi.lr_deconv import ImageTranslatorLRDeconv\n",
        "from ssi.models.unet import UNet\n",
        "from ssi.utils.io.datasets import normalise, add_poisson_gaussian_noise, add_microscope_blur_3d\n",
        "from ssi.utils.metrics.image_metrics import psnr, spectral_mutual_information, mutual_information, ssim\n",
        "\n",
        "\n"
      ],
      "execution_count": 11,
      "outputs": [
        {
          "output_type": "stream",
          "text": [
            "Collecting git+https://github.com/royerlab/ssi-code.git\n",
            "  Cloning https://github.com/royerlab/ssi-code.git to /tmp/pip-req-build-i__qslqw\n",
            "  Running command git clone -q https://github.com/royerlab/ssi-code.git /tmp/pip-req-build-i__qslqw\n",
            "Requirement already satisfied (use --upgrade to upgrade): ssi==0.0.1 from git+https://github.com/royerlab/ssi-code.git in /usr/local/lib/python3.6/dist-packages\n",
            "Requirement already satisfied: torch==1.5.0 in /usr/local/lib/python3.6/dist-packages (from ssi==0.0.1) (1.5.0+cu101)\n",
            "Requirement already satisfied: torchvision==0.6.0 in /usr/local/lib/python3.6/dist-packages (from ssi==0.0.1) (0.6.0+cu101)\n",
            "Requirement already satisfied: imageio==2.8.0 in /usr/local/lib/python3.6/dist-packages (from ssi==0.0.1) (2.8.0)\n",
            "Requirement already satisfied: gdown==3.11.1 in /usr/local/lib/python3.6/dist-packages (from ssi==0.0.1) (3.11.1)\n",
            "Requirement already satisfied: napari[all]==0.3.4 in /usr/local/lib/python3.6/dist-packages (from ssi==0.0.1) (0.3.4)\n",
            "Requirement already satisfied: numexpr==2.7.1 in /usr/local/lib/python3.6/dist-packages (from ssi==0.0.1) (2.7.1)\n",
            "Requirement already satisfied: numpy==1.18.5 in /usr/local/lib/python3.6/dist-packages (from ssi==0.0.1) (1.18.5)\n",
            "Requirement already satisfied: pytest==5.4.3 in /usr/local/lib/python3.6/dist-packages (from ssi==0.0.1) (5.4.3)\n",
            "Requirement already satisfied: scikit-image==0.17.2 in /usr/local/lib/python3.6/dist-packages (from ssi==0.0.1) (0.17.2)\n",
            "Requirement already satisfied: future in /usr/local/lib/python3.6/dist-packages (from torch==1.5.0->ssi==0.0.1) (0.16.0)\n",
            "Requirement already satisfied: pillow>=4.1.1 in /usr/local/lib/python3.6/dist-packages (from torchvision==0.6.0->ssi==0.0.1) (7.0.0)\n",
            "Requirement already satisfied: tqdm in /usr/local/lib/python3.6/dist-packages (from gdown==3.11.1->ssi==0.0.1) (4.41.1)\n",
            "Requirement already satisfied: requests[socks] in /usr/local/lib/python3.6/dist-packages (from gdown==3.11.1->ssi==0.0.1) (2.23.0)\n",
            "Requirement already satisfied: filelock in /usr/local/lib/python3.6/dist-packages (from gdown==3.11.1->ssi==0.0.1) (3.0.12)\n",
            "Requirement already satisfied: six in /usr/local/lib/python3.6/dist-packages (from gdown==3.11.1->ssi==0.0.1) (1.12.0)\n",
            "Requirement already satisfied: napari-plugin-engine>=0.1.5 in /usr/local/lib/python3.6/dist-packages (from napari[all]==0.3.4->ssi==0.0.1) (0.1.6)\n",
            "Requirement already satisfied: wrapt>=1.11.1 in /usr/local/lib/python3.6/dist-packages (from napari[all]==0.3.4->ssi==0.0.1) (1.12.1)\n",
            "Requirement already satisfied: IPython>=7.7.0 in /usr/local/lib/python3.6/dist-packages (from napari[all]==0.3.4->ssi==0.0.1) (7.15.0)\n",
            "Requirement already satisfied: scipy>=1.2.0 in /usr/local/lib/python3.6/dist-packages (from napari[all]==0.3.4->ssi==0.0.1) (1.4.1)\n",
            "Requirement already satisfied: tifffile>=2020.2.16 in /usr/local/lib/python3.6/dist-packages (from napari[all]==0.3.4->ssi==0.0.1) (2020.6.3)\n",
            "Requirement already satisfied: PyOpenGL>=3.1.0 in /usr/local/lib/python3.6/dist-packages (from napari[all]==0.3.4->ssi==0.0.1) (3.1.5)\n",
            "Requirement already satisfied: qtpy>=1.7.0 in /usr/local/lib/python3.6/dist-packages (from napari[all]==0.3.4->ssi==0.0.1) (1.9.0)\n",
            "Requirement already satisfied: numpydoc>=0.9.2 in /usr/local/lib/python3.6/dist-packages (from napari[all]==0.3.4->ssi==0.0.1) (1.0.0)\n",
            "Requirement already satisfied: cachey>=0.2.1 in /usr/local/lib/python3.6/dist-packages (from napari[all]==0.3.4->ssi==0.0.1) (0.2.1)\n",
            "Requirement already satisfied: dask[array]>=2.1.0 in /usr/local/lib/python3.6/dist-packages (from napari[all]==0.3.4->ssi==0.0.1) (2.12.0)\n",
            "Requirement already satisfied: ipykernel>=5.1.1 in /usr/local/lib/python3.6/dist-packages (from napari[all]==0.3.4->ssi==0.0.1) (5.3.0)\n",
            "Requirement already satisfied: importlib-metadata>=1.5.0; python_version < \"3.8\" in /usr/local/lib/python3.6/dist-packages (from napari[all]==0.3.4->ssi==0.0.1) (1.6.1)\n",
            "Requirement already satisfied: vispy>=0.6.4 in /usr/local/lib/python3.6/dist-packages (from napari[all]==0.3.4->ssi==0.0.1) (0.6.4)\n",
            "Requirement already satisfied: toolz>=0.10.0 in /usr/local/lib/python3.6/dist-packages (from napari[all]==0.3.4->ssi==0.0.1) (0.10.0)\n",
            "Requirement already satisfied: PyYAML>=5.1 in /usr/local/lib/python3.6/dist-packages (from napari[all]==0.3.4->ssi==0.0.1) (5.3.1)\n",
            "Requirement already satisfied: qtconsole>=4.5.1 in /usr/local/lib/python3.6/dist-packages (from napari[all]==0.3.4->ssi==0.0.1) (4.7.4)\n",
            "Requirement already satisfied: napari-svg>=0.1.3 in /usr/local/lib/python3.6/dist-packages (from napari[all]==0.3.4->ssi==0.0.1) (0.1.3)\n",
            "Requirement already satisfied: psutil>=5.0 in /usr/local/lib/python3.6/dist-packages (from napari[all]==0.3.4->ssi==0.0.1) (5.4.8)\n",
            "Requirement already satisfied: PyQt5<5.15.0,>=5.12.3; extra == \"all\" in /usr/local/lib/python3.6/dist-packages (from napari[all]==0.3.4->ssi==0.0.1) (5.14.2)\n",
            "Requirement already satisfied: wcwidth in /usr/local/lib/python3.6/dist-packages (from pytest==5.4.3->ssi==0.0.1) (0.2.4)\n",
            "Requirement already satisfied: more-itertools>=4.0.0 in /usr/local/lib/python3.6/dist-packages (from pytest==5.4.3->ssi==0.0.1) (8.4.0)\n",
            "Requirement already satisfied: py>=1.5.0 in /usr/local/lib/python3.6/dist-packages (from pytest==5.4.3->ssi==0.0.1) (1.8.1)\n",
            "Requirement already satisfied: packaging in /usr/local/lib/python3.6/dist-packages (from pytest==5.4.3->ssi==0.0.1) (20.4)\n",
            "Requirement already satisfied: attrs>=17.4.0 in /usr/local/lib/python3.6/dist-packages (from pytest==5.4.3->ssi==0.0.1) (19.3.0)\n",
            "Requirement already satisfied: pluggy<1.0,>=0.12 in /usr/local/lib/python3.6/dist-packages (from pytest==5.4.3->ssi==0.0.1) (0.13.1)\n",
            "Requirement already satisfied: matplotlib!=3.0.0,>=2.0.0 in /usr/local/lib/python3.6/dist-packages (from scikit-image==0.17.2->ssi==0.0.1) (3.2.1)\n",
            "Requirement already satisfied: PyWavelets>=1.1.1 in /usr/local/lib/python3.6/dist-packages (from scikit-image==0.17.2->ssi==0.0.1) (1.1.1)\n",
            "Requirement already satisfied: networkx>=2.0 in /usr/local/lib/python3.6/dist-packages (from scikit-image==0.17.2->ssi==0.0.1) (2.4)\n",
            "Requirement already satisfied: idna<3,>=2.5 in /usr/local/lib/python3.6/dist-packages (from requests[socks]->gdown==3.11.1->ssi==0.0.1) (2.9)\n",
            "Requirement already satisfied: certifi>=2017.4.17 in /usr/local/lib/python3.6/dist-packages (from requests[socks]->gdown==3.11.1->ssi==0.0.1) (2020.4.5.2)\n",
            "Requirement already satisfied: urllib3!=1.25.0,!=1.25.1,<1.26,>=1.21.1 in /usr/local/lib/python3.6/dist-packages (from requests[socks]->gdown==3.11.1->ssi==0.0.1) (1.24.3)\n",
            "Requirement already satisfied: chardet<4,>=3.0.2 in /usr/local/lib/python3.6/dist-packages (from requests[socks]->gdown==3.11.1->ssi==0.0.1) (3.0.4)\n",
            "Requirement already satisfied: PySocks!=1.5.7,>=1.5.6; extra == \"socks\" in /usr/local/lib/python3.6/dist-packages (from requests[socks]->gdown==3.11.1->ssi==0.0.1) (1.7.1)\n",
            "Requirement already satisfied: traitlets>=4.2 in /usr/local/lib/python3.6/dist-packages (from IPython>=7.7.0->napari[all]==0.3.4->ssi==0.0.1) (4.3.3)\n",
            "Requirement already satisfied: decorator in /usr/local/lib/python3.6/dist-packages (from IPython>=7.7.0->napari[all]==0.3.4->ssi==0.0.1) (4.4.2)\n",
            "Requirement already satisfied: backcall in /usr/local/lib/python3.6/dist-packages (from IPython>=7.7.0->napari[all]==0.3.4->ssi==0.0.1) (0.2.0)\n",
            "Requirement already satisfied: pickleshare in /usr/local/lib/python3.6/dist-packages (from IPython>=7.7.0->napari[all]==0.3.4->ssi==0.0.1) (0.7.5)\n",
            "Requirement already satisfied: prompt-toolkit!=3.0.0,!=3.0.1,<3.1.0,>=2.0.0 in /usr/local/lib/python3.6/dist-packages (from IPython>=7.7.0->napari[all]==0.3.4->ssi==0.0.1) (3.0.5)\n",
            "Requirement already satisfied: pygments in /usr/local/lib/python3.6/dist-packages (from IPython>=7.7.0->napari[all]==0.3.4->ssi==0.0.1) (2.1.3)\n",
            "Requirement already satisfied: setuptools>=18.5 in /usr/local/lib/python3.6/dist-packages (from IPython>=7.7.0->napari[all]==0.3.4->ssi==0.0.1) (47.3.1)\n",
            "Requirement already satisfied: jedi>=0.10 in /usr/local/lib/python3.6/dist-packages (from IPython>=7.7.0->napari[all]==0.3.4->ssi==0.0.1) (0.17.0)\n",
            "Requirement already satisfied: pexpect; sys_platform != \"win32\" in /usr/local/lib/python3.6/dist-packages (from IPython>=7.7.0->napari[all]==0.3.4->ssi==0.0.1) (4.8.0)\n",
            "Requirement already satisfied: sphinx>=1.6.5 in /usr/local/lib/python3.6/dist-packages (from numpydoc>=0.9.2->napari[all]==0.3.4->ssi==0.0.1) (1.8.5)\n",
            "Requirement already satisfied: Jinja2>=2.3 in /usr/local/lib/python3.6/dist-packages (from numpydoc>=0.9.2->napari[all]==0.3.4->ssi==0.0.1) (2.11.2)\n",
            "Requirement already satisfied: heapdict in /usr/local/lib/python3.6/dist-packages (from cachey>=0.2.1->napari[all]==0.3.4->ssi==0.0.1) (1.0.1)\n",
            "Requirement already satisfied: tornado>=4.2 in /usr/local/lib/python3.6/dist-packages (from ipykernel>=5.1.1->napari[all]==0.3.4->ssi==0.0.1) (4.5.3)\n",
            "Requirement already satisfied: jupyter-client in /usr/local/lib/python3.6/dist-packages (from ipykernel>=5.1.1->napari[all]==0.3.4->ssi==0.0.1) (5.3.4)\n",
            "Requirement already satisfied: zipp>=0.5 in /usr/local/lib/python3.6/dist-packages (from importlib-metadata>=1.5.0; python_version < \"3.8\"->napari[all]==0.3.4->ssi==0.0.1) (3.1.0)\n",
            "Requirement already satisfied: freetype-py in /usr/local/lib/python3.6/dist-packages (from vispy>=0.6.4->napari[all]==0.3.4->ssi==0.0.1) (2.1.0.post1)\n",
            "Requirement already satisfied: jupyter-core in /usr/local/lib/python3.6/dist-packages (from qtconsole>=4.5.1->napari[all]==0.3.4->ssi==0.0.1) (4.6.3)\n",
            "Requirement already satisfied: pyzmq>=17.1 in /usr/local/lib/python3.6/dist-packages (from qtconsole>=4.5.1->napari[all]==0.3.4->ssi==0.0.1) (19.0.1)\n",
            "Requirement already satisfied: ipython-genutils in /usr/local/lib/python3.6/dist-packages (from qtconsole>=4.5.1->napari[all]==0.3.4->ssi==0.0.1) (0.2.0)\n",
            "Requirement already satisfied: PyQt5-sip<13,>=12.7 in /usr/local/lib/python3.6/dist-packages (from PyQt5<5.15.0,>=5.12.3; extra == \"all\"->napari[all]==0.3.4->ssi==0.0.1) (12.8.0)\n",
            "Requirement already satisfied: pyparsing>=2.0.2 in /usr/local/lib/python3.6/dist-packages (from packaging->pytest==5.4.3->ssi==0.0.1) (2.4.7)\n",
            "Requirement already satisfied: python-dateutil>=2.1 in /usr/local/lib/python3.6/dist-packages (from matplotlib!=3.0.0,>=2.0.0->scikit-image==0.17.2->ssi==0.0.1) (2.8.1)\n",
            "Requirement already satisfied: kiwisolver>=1.0.1 in /usr/local/lib/python3.6/dist-packages (from matplotlib!=3.0.0,>=2.0.0->scikit-image==0.17.2->ssi==0.0.1) (1.2.0)\n",
            "Requirement already satisfied: cycler>=0.10 in /usr/local/lib/python3.6/dist-packages (from matplotlib!=3.0.0,>=2.0.0->scikit-image==0.17.2->ssi==0.0.1) (0.10.0)\n",
            "Requirement already satisfied: parso>=0.7.0 in /usr/local/lib/python3.6/dist-packages (from jedi>=0.10->IPython>=7.7.0->napari[all]==0.3.4->ssi==0.0.1) (0.7.0)\n",
            "Requirement already satisfied: ptyprocess>=0.5 in /usr/local/lib/python3.6/dist-packages (from pexpect; sys_platform != \"win32\"->IPython>=7.7.0->napari[all]==0.3.4->ssi==0.0.1) (0.6.0)\n",
            "Requirement already satisfied: alabaster<0.8,>=0.7 in /usr/local/lib/python3.6/dist-packages (from sphinx>=1.6.5->numpydoc>=0.9.2->napari[all]==0.3.4->ssi==0.0.1) (0.7.12)\n",
            "Requirement already satisfied: snowballstemmer>=1.1 in /usr/local/lib/python3.6/dist-packages (from sphinx>=1.6.5->numpydoc>=0.9.2->napari[all]==0.3.4->ssi==0.0.1) (2.0.0)\n",
            "Requirement already satisfied: babel!=2.0,>=1.3 in /usr/local/lib/python3.6/dist-packages (from sphinx>=1.6.5->numpydoc>=0.9.2->napari[all]==0.3.4->ssi==0.0.1) (2.8.0)\n",
            "Requirement already satisfied: imagesize in /usr/local/lib/python3.6/dist-packages (from sphinx>=1.6.5->numpydoc>=0.9.2->napari[all]==0.3.4->ssi==0.0.1) (1.2.0)\n",
            "Requirement already satisfied: docutils>=0.11 in /usr/local/lib/python3.6/dist-packages (from sphinx>=1.6.5->numpydoc>=0.9.2->napari[all]==0.3.4->ssi==0.0.1) (0.15.2)\n",
            "Requirement already satisfied: sphinxcontrib-websupport in /usr/local/lib/python3.6/dist-packages (from sphinx>=1.6.5->numpydoc>=0.9.2->napari[all]==0.3.4->ssi==0.0.1) (1.2.2)\n",
            "Requirement already satisfied: MarkupSafe>=0.23 in /usr/local/lib/python3.6/dist-packages (from Jinja2>=2.3->numpydoc>=0.9.2->napari[all]==0.3.4->ssi==0.0.1) (1.1.1)\n",
            "Requirement already satisfied: pytz>=2015.7 in /usr/local/lib/python3.6/dist-packages (from babel!=2.0,>=1.3->sphinx>=1.6.5->numpydoc>=0.9.2->napari[all]==0.3.4->ssi==0.0.1) (2018.9)\n",
            "Building wheels for collected packages: ssi\n",
            "  Building wheel for ssi (setup.py) ... \u001b[?25l\u001b[?25hdone\n",
            "  Created wheel for ssi: filename=ssi-0.0.1-cp36-none-any.whl size=65150 sha256=9cced5a97e05558c67b49081a7528a5e2e992f39f4f8aa0889023378419cbf8f\n",
            "  Stored in directory: /tmp/pip-ephem-wheel-cache-kmno55om/wheels/41/43/79/772d902b235a4becec95b28b90f55916d5739a008dd2ccef03\n",
            "Successfully built ssi\n",
            "Requirement already satisfied: cupy-cuda101 in /usr/local/lib/python3.6/dist-packages (6.5.0)\n",
            "Requirement already satisfied: six>=1.9.0 in /usr/local/lib/python3.6/dist-packages (from cupy-cuda101) (1.12.0)\n",
            "Requirement already satisfied: numpy>=1.9.0 in /usr/local/lib/python3.6/dist-packages (from cupy-cuda101) (1.18.5)\n",
            "Requirement already satisfied: fastrlock>=0.3 in /usr/local/lib/python3.6/dist-packages (from cupy-cuda101) (0.5)\n",
            "Depencies installed and imported.\n"
          ],
          "name": "stdout"
        }
      ]
    },
    {
      "cell_type": "markdown",
      "metadata": {
        "id": "Fw0kkTU6CsU4",
        "colab_type": "text"
      },
      "source": [
        "# **3. Select your paths and parameters**\n",
        "\n",
        "---\n",
        "\n",
        "<font size = 4>The code below allows the user to enter the paths to where the training data is and to define the training parameters.\n"
      ]
    },
    {
      "cell_type": "markdown",
      "metadata": {
        "id": "da_R1mCG_PDX",
        "colab_type": "text"
      },
      "source": [
        "## **3.1. Setting Main Training Parameters**\n",
        "---\n",
        "<font size = 4>"
      ]
    },
    {
      "cell_type": "markdown",
      "metadata": {
        "id": "CB6acvUFtWqd",
        "colab_type": "text"
      },
      "source": [
        "<font size = 5> **Paths for training, predictions and results**\n",
        "\n",
        "<font size = 4 color=orange> Fill the parameters here as needed and update the code. Note that the sections containing `Training_source`, `Training target`, `model_name` and `model_path` should appear in your notebook.\n",
        "\n",
        "<font size = 4>**`Training_source:`, `Training_target`:** These are the paths to your folders containing the Training_source and Training_target data respectively. To find the paths of the folders containing the respective datasets, go to your Files on the left of the notebook, navigate to the folder containing your files and copy the path by right-clicking on the folder, **Copy path** and pasting it into the right box below.\n",
        "\n",
        "<font size = 4>**`model_name`:** Use only my_model -style, not my-model (Use \"_\" not \"-\"). Do not use spaces in the name. Avoid using the name of an existing model (saved in the same folder) as it will be overwritten.\n",
        "\n",
        "<font size = 4>**`model_path`**: Enter the path where your model will be saved once trained (for instance your result folder).\n",
        "\n",
        "<font size = 5>**Training Parameters**\n",
        "\n",
        "<font size = 4>**`number_of_epochs`:**Give estimates for training performance given a number of epochs and provide a default value. **Default value:**\n",
        "\n",
        "<font size = 4>**`other_parameters`:**Give other parameters or default values **Default value:**\n",
        "\n",
        "<font size = 4>**If additional parameter above affects the training of the notebook give a brief explanation and how problems can be mitigated**<font size = 4> \n",
        "\n",
        "\n",
        "<font size = 5>**Advanced Parameters - experienced users only**\n",
        "\n",
        "<font size = 4>**`number_of_steps`:** Define the number of training steps by epoch. By default this parameter is calculated so that each patch is seen at least once per epoch. **Default value: Number of patch / batch_size**\n",
        "\n",
        "<font size =4>**`batch_size:`** This parameter defines the number of patches seen in each training step. Reducing or increasing the **batch size** may slow or speed up your training, respectively, and can influence network performance. **Default value: 16**\n",
        "\n",
        "<font size = 4>**`percentage_validation`:**  Input the percentage of your training dataset you want to use to validate the network during training. **Default value: 10** "
      ]
    },
    {
      "cell_type": "code",
      "metadata": {
        "id": "ewpNJ_I0Mv47",
        "colab_type": "code",
        "cellView": "form",
        "colab": {
          "base_uri": "https://localhost:8080/",
          "height": 505
        },
        "outputId": "8c64cce4-8a39-4560-bc57-1adf06474c32"
      },
      "source": [
        "class bcolors:\n",
        "  WARNING = '\\033[31m'\n",
        "\n",
        "\n",
        "#@markdown ###Path to training images:\n",
        "\n",
        "Training_source = \"/content/gt\" #@param {type:\"string\"}\n",
        "\n",
        "Image_name = \"blob_3d\" #@param {type:\"string\"}\n",
        "\n",
        "folder = Path(Training_source)\n",
        "files = [f for f in folder.iterdir() if f.is_file()]\n",
        "filename = [f.name for f in files if Image_name in f.name][0]\n",
        "filepath = folder / filename\n",
        "image = imread(filepath)\n",
        "\n",
        "\n",
        "\n",
        "# other parameters for training.\n",
        "#@markdown ###Training Parameters\n",
        "\n",
        "max_epochs =  3000#@param {type:\"number\"}\n",
        "\n",
        "patience =  300#@param {type:\"number\"}\n",
        "\n",
        "batch_size =  8#@param {type:\"number\"}\n",
        "\n",
        "\n",
        "print('Loaded Input images (number, width, length) =', image.shape)\n",
        "print(\"Parameters initiated.\")\n",
        "\n",
        "\n",
        "\n",
        "# Here we check that the input images contains the expected dimensions\n",
        "if len(image.shape) == 3:\n",
        "  print(\"Image dimensions (z,y,x)\",image.shape)\n",
        "\n",
        "if not len(image.shape) == 3:\n",
        "  print(bcolors.WARNING +\"Your images appear to have the wrong dimensions. Image dimension\", image.shape)\n",
        "\n",
        "\n",
        "\n",
        "f=plt.figure(figsize=(16,8))\n",
        "plt.subplot(1,2,1)\n",
        "plt.imshow(image[:,:,0], interpolation='nearest')\n",
        "plt.title('Training source')\n",
        "plt.axis('off');\n",
        "\n",
        "\n"
      ],
      "execution_count": 13,
      "outputs": [
        {
          "output_type": "stream",
          "text": [
            "Loaded Input images (number, width, length) = (64, 64, 64)\n",
            "Parameters initiated.\n",
            "Image dimensions (z,y,x) (64, 64, 64)\n"
          ],
          "name": "stdout"
        },
        {
          "output_type": "display_data",
          "data": {
            "image/png": "[encoded data removed]",
            "text/plain": [
              "<Figure size 1152x576 with 1 Axes>"
            ]
          },
          "metadata": {
            "tags": [],
            "needs_background": "light"
          }
        }
      ]
    },
    {
      "cell_type": "markdown",
      "metadata": {
        "id": "rQndJj70FzfL",
        "colab_type": "text"
      },
      "source": [
        "# **4. Train the network**\n",
        "---"
      ]
    },
    {
      "cell_type": "markdown",
      "metadata": {
        "id": "wQPz0F6JlvJR",
        "colab_type": "text"
      },
      "source": [
        "## **4.1. Train the network**\n",
        "---\n",
        "<font size = 4>When playing the cell below you should see updates after each epoch (round). Network training can take some time.\n",
        "\n",
        "<font size = 4>* **CRITICAL NOTE:** Google Colab has a time limit for processing (to prevent using GPU power for datamining). Training time must be less than 12 hours! If training takes longer than 12 hours, please decrease the number of epochs or number of patches."
      ]
    },
    {
      "cell_type": "code",
      "metadata": {
        "id": "EZnoS3rb8BSR",
        "colab_type": "code",
        "cellView": "form",
        "colab": {
          "base_uri": "https://localhost:8080/",
          "height": 52
        },
        "outputId": "ddd20d7b-6169-4c2e-9e1f-6426dcb111d0"
      },
      "source": [
        "import time\n",
        "import csv\n",
        "\n",
        "start = time.time()\n",
        "\n",
        "#@markdown ##<font color=black>Start Training\n",
        "\n",
        "# Start Training\n",
        "\n",
        "#Insert the code necessary to initiate training of your model\n",
        "\n",
        "#Note that the notebook should load weights either from the model that is \n",
        "#trained from scratch or if the pretrained weights are used (3.3.)\n",
        "\n",
        "\n",
        "\n",
        "print(\"beginning of demo\")\n",
        "image_clipped = normalise(image.astype(numpy.float32))\n",
        "blurred_image, psf_kernel = add_microscope_blur_3d(image_clipped)\n",
        "noisy_blurred_image = add_poisson_gaussian_noise(blurred_image, alpha=0.001, sigma=0.1, sap=0.01, quant_bits=10)\n",
        "\n",
        "\n",
        "it_deconv = SSIDeconvolution(\n",
        "    max_epochs=max_epochs,\n",
        "    patience=patience,\n",
        "    batch_size=batch_size,\n",
        "    learning_rate=0.01,\n",
        "    normaliser_type='identity',\n",
        "    psf_kernel=psf_kernel,\n",
        "    model_class=UNet,\n",
        "    masking=True,\n",
        "    masking_density=0.01,\n",
        "    loss='l2',\n",
        ")\n",
        "\n",
        "start = time.time()\n",
        "it_deconv.train(noisy_blurred_image)\n",
        "stop = time.time()\n",
        "print(f\"Training: elapsed time:  {stop - start} \")\n",
        "\n",
        "start = time.time()\n",
        "deconvolved_image = it_deconv.translate(noisy_blurred_image)\n",
        "stop = time.time()\n",
        "print(f\"inference: elapsed time:  {stop - start} \")\n",
        "\n",
        "image_clipped = numpy.clip(image_clipped, 0, 1)\n",
        "deconvolved_image_clipped = numpy.clip(deconvolved_image, 0, 1)\n",
        "\n",
        "print(\"Below in order: PSNR, norm spectral mutual info, norm mutual info, SSIM: \")\n",
        "printscore(\n",
        "    \"blurry image          :   \",\n",
        "    psnr(image_clipped, blurred_image),\n",
        "    spectral_mutual_information(image_clipped, blurred_image),\n",
        "    mutual_information(image_clipped, blurred_image),\n",
        "    ssim(image_clipped, blurred_image),\n",
        ")\n",
        "\n",
        "printscore(\n",
        "    \"noisy and blurry image:   \",\n",
        "    psnr(image_clipped, noisy_blurred_image),\n",
        "    spectral_mutual_information(image_clipped, noisy_blurred_image),\n",
        "    mutual_information(image_clipped, noisy_blurred_image),\n",
        "    ssim(image_clipped, noisy_blurred_image),\n",
        ")\n",
        "\n",
        "printscore(\n",
        "    \"lr deconv (n=5)       :    \",\n",
        "    psnr(image_clipped, lr_deconvolved_image_5_clipped),\n",
        "    spectral_mutual_information(image_clipped, lr_deconvolved_image_5_clipped),\n",
        "    mutual_information(image_clipped, lr_deconvolved_image_5_clipped),\n",
        "    ssim(image_clipped, lr_deconvolved_image_5_clipped),\n",
        ")\n",
        "\n",
        "printscore(\n",
        "    \"ssi deconv            : \",\n",
        "    psnr(image_clipped, deconvolved_image_clipped),\n",
        "    spectral_mutual_information(image_clipped, deconvolved_image_clipped),\n",
        "    mutual_information(image_clipped, deconvolved_image_clipped),\n",
        "    ssim(image_clipped, deconvolved_image_clipped),\n",
        ")\n",
        "\n",
        "print(\"NOTE: if you get a bad results for ssi, blame stochastic optimisation and retry...\")\n",
        "print(\"      The training is done on the same exact image that we infer on, very few pixels...\")\n",
        "print(\"      Training should be more stable given more data...\")\n",
        "\n",
        "\n",
        "f=plt.figure(figsize=(16,8))\n",
        "plt.subplot(1,2,1)\n",
        "plt.imshow(deconvolved_image_clipped, interpolation='nearest')\n",
        "plt.axis('off')\n",
        "plt.title('deconvolved_image');\n",
        "\n"
      ],
      "execution_count": null,
      "outputs": [
        {
          "output_type": "stream",
          "text": [
            "beginning of demo\n",
            "(17, 17, 17)\n"
          ],
          "name": "stdout"
        }
      ]
    },
    {
      "cell_type": "markdown",
      "metadata": {
        "id": "Rn9zpWpo0xNw",
        "colab_type": "text"
      },
      "source": [
        "\n",
        "#**Thank you for using <font color=black>SSI!**"
      ]
    }
  ]
}